{
 "cells": [
  {
   "cell_type": "code",
   "execution_count": 1,
   "metadata": {},
   "outputs": [],
   "source": [
    "import spacy"
   ]
  },
  {
   "cell_type": "code",
   "execution_count": 2,
   "metadata": {},
   "outputs": [],
   "source": [
    "nlp = spacy.load(\"en_core_web_sm\")"
   ]
  },
  {
   "cell_type": "code",
   "execution_count": 8,
   "metadata": {},
   "outputs": [
    {
     "name": "stdout",
     "output_type": "stream",
     "text": [
      "Elong | PROPN | proper noun\n",
      "flew | VERB | verb\n",
      "to | ADP | adposition\n",
      "mars | NOUN | noun\n",
      "yesterday | NOUN | noun\n",
      ". | PUNCT | punctuation\n",
      "He | PRON | pronoun\n",
      "carried | VERB | verb\n",
      "biryani | ADJ | adjective\n",
      "masala | NOUN | noun\n",
      "with | ADP | adposition\n",
      "him | PRON | pronoun\n"
     ]
    }
   ],
   "source": [
    "doc = nlp(\"Elong flew to mars yesterday. He carried biryani masala with him\")\n",
    "\n",
    "for token in doc:\n",
    "  print(token, \"|\", token.pos_, \"|\", spacy.explain(token.pos_))"
   ]
  },
  {
   "cell_type": "code",
   "execution_count": 10,
   "metadata": {},
   "outputs": [
    {
     "name": "stdout",
     "output_type": "stream",
     "text": [
      "Wow | INTJ | interjection | UH | interjection\n",
      "! | PUNCT | punctuation | . | punctuation mark, sentence closer\n",
      "Dr. | PROPN | proper noun | NNP | noun, proper singular\n",
      "Strange | PROPN | proper noun | NNP | noun, proper singular\n",
      "made | VERB | verb | VBD | verb, past tense\n",
      "265 | NUM | numeral | CD | cardinal number\n",
      "million | NUM | numeral | CD | cardinal number\n",
      "$ | NUM | numeral | CD | cardinal number\n",
      "on | ADP | adposition | IN | conjunction, subordinating or preposition\n",
      "the | DET | determiner | DT | determiner\n",
      "very | ADV | adverb | RB | adverb\n",
      "first | ADJ | adjective | JJ | adjective (English), other noun-modifier (Chinese)\n",
      "day | NOUN | noun | NN | noun, singular or mass\n"
     ]
    }
   ],
   "source": [
    "doc = nlp(\"Wow! Dr. Strange made 265 million $ on the very first day\")\n",
    "\n",
    "for token in doc:\n",
    "  print(\n",
    "    token, \"|\", token.pos_, \"|\", spacy.explain(token.pos_)\n",
    "    , \"|\", token.tag_, \"|\", spacy.explain(token.tag_)\n",
    "    )"
   ]
  },
  {
   "cell_type": "code",
   "execution_count": 11,
   "metadata": {},
   "outputs": [
    {
     "name": "stdout",
     "output_type": "stream",
     "text": [
      "quits | VBZ | verb, 3rd person singular present\n"
     ]
    }
   ],
   "source": [
    "doc = nlp(\"He quits the job\")\n",
    "\n",
    "doc[1]\n",
    "print(doc[1].text, \"|\", doc[1].tag_, \"|\", spacy.explain(doc[1].tag_))"
   ]
  }
 ],
 "metadata": {
  "kernelspec": {
   "display_name": "myenv",
   "language": "python",
   "name": "python3"
  },
  "language_info": {
   "codemirror_mode": {
    "name": "ipython",
    "version": 3
   },
   "file_extension": ".py",
   "mimetype": "text/x-python",
   "name": "python",
   "nbconvert_exporter": "python",
   "pygments_lexer": "ipython3",
   "version": "3.10.15"
  }
 },
 "nbformat": 4,
 "nbformat_minor": 2
}
