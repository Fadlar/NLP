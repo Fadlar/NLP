{
 "cells": [
  {
   "cell_type": "code",
   "execution_count": 3,
   "id": "2567fc20-f5c9-49f5-baee-ea7125b121dc",
   "metadata": {},
   "outputs": [],
   "source": [
    "# regex101.com for info\n",
    "import re"
   ]
  },
  {
   "cell_type": "code",
   "execution_count": 4,
   "id": "28a06011-639b-41a1-9aba-580d8813b692",
   "metadata": {},
   "outputs": [],
   "source": [
    "chat1 = 'codebasics: you ask a lot questions 😔 1235678912, anc@xyz.com'\n",
    "chat2 = 'codebasics: here it is: (123)-567-8912, anc@xyz.com'\n",
    "chat3 = 'codebasics: yes, phone: 1235678912, fadlanx09@xyz.com'"
   ]
  },
  {
   "cell_type": "code",
   "execution_count": 18,
   "id": "9a90cd65-d617-4b73-9adb-ba2cd9c78e08",
   "metadata": {},
   "outputs": [
    {
     "data": {
      "text/plain": [
       "['anc@']"
      ]
     },
     "execution_count": 18,
     "metadata": {},
     "output_type": "execute_result"
    }
   ],
   "source": [
    "# pattern = '\\d{10}|\\(\\d{3}\\)-\\d{3}-\\d{4}' # for number phone\n",
    "pattern = '[a-z]*@'\n",
    "\n",
    "matches = re.findall(pattern, chat3)\n",
    "matches"
   ]
  },
  {
   "cell_type": "code",
   "execution_count": null,
   "id": "1c978074-fe5b-44c1-963b-d8c12fe685a8",
   "metadata": {},
   "outputs": [],
   "source": []
  }
 ],
 "metadata": {
  "kernelspec": {
   "display_name": "Python 3 (ipykernel)",
   "language": "python",
   "name": "python3"
  },
  "language_info": {
   "codemirror_mode": {
    "name": "ipython",
    "version": 3
   },
   "file_extension": ".py",
   "mimetype": "text/x-python",
   "name": "python",
   "nbconvert_exporter": "python",
   "pygments_lexer": "ipython3",
   "version": "3.8.10"
  }
 },
 "nbformat": 4,
 "nbformat_minor": 5
}
